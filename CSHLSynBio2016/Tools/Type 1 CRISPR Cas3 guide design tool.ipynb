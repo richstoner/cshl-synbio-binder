{
 "cells": [
  {
   "cell_type": "markdown",
   "metadata": {},
   "source": [
    "## Designing guides for a Type 1 CRISPR cas3 system\n",
    "\n",
    "Rich Stoner, Synthego\n",
    "\n",
    "Based on work described in this paper\n",
    "\n",
    "**Repurposing endogenous type I CRISPR-Cas systems for programmable gene repression**\n",
    "\n",
    "https://www.ncbi.nlm.nih.gov/pubmed/25326321\n",
    "\n",
    "\n",
    "\n"
   ]
  },
  {
   "cell_type": "code",
   "execution_count": null,
   "metadata": {
    "collapsed": true
   },
   "outputs": [],
   "source": [
    "# we'll use coral to manage the sequence data, and pandas for loading the csv\n",
    "import coral as cor\n",
    "import pandas as pd"
   ]
  },
  {
   "cell_type": "code",
   "execution_count": null,
   "metadata": {
    "collapsed": false
   },
   "outputs": [],
   "source": [
    "# location of the plasmid sequence file\n",
    "ape_path = './CRISPR/pUA66-lacZ.ape'\n",
    "\n",
    "# location\n",
    "nar_data = pd.read_csv('./CRISPR/nar_supplemental_material.csv')"
   ]
  },
  {
   "cell_type": "code",
   "execution_count": null,
   "metadata": {
    "collapsed": false
   },
   "outputs": [],
   "source": [
    "# these are the guides found in the Lou et. al paper\n",
    "nar_data"
   ]
  },
  {
   "cell_type": "code",
   "execution_count": null,
   "metadata": {
    "collapsed": true
   },
   "outputs": [],
   "source": [
    "# read the APE file (coral uses biopython on the backend)\n",
    "plasmid = cor.seqio.read_dna(ape_path)"
   ]
  },
  {
   "cell_type": "code",
   "execution_count": null,
   "metadata": {
    "collapsed": false
   },
   "outputs": [],
   "source": [
    "# render it in the notebook\n",
    "plasmid.display()"
   ]
  },
  {
   "cell_type": "code",
   "execution_count": null,
   "metadata": {
    "collapsed": false
   },
   "outputs": [],
   "source": [
    "# show a bit of detail on the defined features\n",
    "plasmid.features"
   ]
  },
  {
   "cell_type": "code",
   "execution_count": null,
   "metadata": {
    "collapsed": false
   },
   "outputs": [],
   "source": [
    "# extract the transcription start site\n",
    "tss_feature = plasmid.select_features('Start of transcription')[0]\n",
    "tss = tss_feature.start"
   ]
  },
  {
   "cell_type": "code",
   "execution_count": null,
   "metadata": {
    "collapsed": false,
    "scrolled": false
   },
   "outputs": [],
   "source": [
    "# and the gfp domain (not used for the rest of doc however)\n",
    "gfpmut2_feature = plasmid.select_features('gfpmut2')[0]\n",
    "gfpmut2 = plasmid.extract(gfpmut2_feature)\n",
    "len(gfpmut2)"
   ]
  },
  {
   "cell_type": "code",
   "execution_count": null,
   "metadata": {
    "collapsed": false
   },
   "outputs": [],
   "source": [
    "# define the different PAM sequences to search for on the watson strand\n",
    "TYPE_1_PAM_W_SITES = ['AAG', 'ATG', 'AGG', 'GAG']\n",
    "\n",
    "pam_locations = {}\n",
    "for ps in TYPE_1_PAM_W_SITES:\n",
    "    pam_locations[ps] = plasmid.locate(ps)"
   ]
  },
  {
   "cell_type": "code",
   "execution_count": null,
   "metadata": {
    "collapsed": false
   },
   "outputs": [],
   "source": [
    "# example watson strand locations for the AGG PAM\n",
    "print(pam_locations['AGG'][0])"
   ]
  },
  {
   "cell_type": "code",
   "execution_count": null,
   "metadata": {
    "collapsed": false
   },
   "outputs": [],
   "source": [
    "# define your guide length \n",
    "\n",
    "guide_length = 30\n",
    "\n",
    "# and the repeat sequence (aka your clustered repeat)\n",
    "\n",
    "repeated_section = 'GTTCCCCGCGCCAGCGGGGATAAACCG'\n",
    "\n",
    "# and create a list to store the guides\n",
    "guides = []"
   ]
  },
  {
   "cell_type": "code",
   "execution_count": null,
   "metadata": {
    "collapsed": false
   },
   "outputs": [],
   "source": [
    "# locate all target sequences on the watson strand\n",
    "\n",
    "for pam, pams_by_strand in pam_locations.items():\n",
    "    \n",
    "    for w_pam_locus in pams_by_strand[0]:\n",
    "        \n",
    "        guide = {\n",
    "            'pam_locus' : w_pam_locus,\n",
    "            'distance_from_tss' : w_pam_locus - tss,\n",
    "            'name' : 'W Guide %d' % len(guides),\n",
    "            'PAM' : pam,\n",
    "            'strand' : 'watson',\n",
    "        }\n",
    "\n",
    "        guide['pam_plus_sequence'] = plasmid.top[w_pam_locus : w_pam_locus+len(pam)+guide_length ] \n",
    "        guide['guide_only'] = plasmid.top[ w_pam_locus+len(pam) : w_pam_locus+len(pam)+guide_length]\n",
    "\n",
    "        if guide['distance_from_tss'] < 0:\n",
    "            guide['distance_from_tss'] += 3\n",
    "        \n",
    "        guides.append(guide)"
   ]
  },
  {
   "cell_type": "code",
   "execution_count": null,
   "metadata": {
    "collapsed": true
   },
   "outputs": [],
   "source": [
    "# now do the same on the crick strand\n",
    "\n",
    "pam_locations = {}\n",
    "\n",
    "TYPE_1_PAM_C_SITES = ['AAG', 'ATG', 'AGG', 'GAG']\n",
    "\n",
    "for ps in TYPE_1_PAM_C_SITES:\n",
    "    pam_locations[ps] = plasmid.locate(ps) "
   ]
  },
  {
   "cell_type": "code",
   "execution_count": null,
   "metadata": {
    "collapsed": false
   },
   "outputs": [],
   "source": [
    "for pam, pams_by_strand in pam_locations.items():\n",
    "        \n",
    "    for c_pam_locus in pams_by_strand[1]:\n",
    "        \n",
    "        c_pam_in_top_coords = len(plasmid) - c_pam_locus\n",
    "            \n",
    "        guide = {\n",
    "            'pam_locus' : c_pam_locus,\n",
    "            'distance_from_tss' : c_pam_in_top_coords - tss -len(pam),\n",
    "            'name' : 'C Guide %d' % len(guides),\n",
    "            'PAM': pam,\n",
    "            'strand' : 'crick',                \n",
    "        }\n",
    "\n",
    "        guide['pam_plus_sequence'] = plasmid.bottom[c_pam_locus : c_pam_locus+len(pam)+guide_length ] \n",
    "\n",
    "        guide['guide_only'] = plasmid.bottom[ c_pam_locus+len(pam) : c_pam_locus+len(pam)+guide_length]            \n",
    "        \n",
    "        if guide['distance_from_tss'] < 0:\n",
    "            guide['distance_from_tss'] += 3\n",
    "        \n",
    "        guides.append(guide)\n"
   ]
  },
  {
   "cell_type": "code",
   "execution_count": null,
   "metadata": {
    "collapsed": false,
    "scrolled": false
   },
   "outputs": [],
   "source": [
    "print('Found valid %d guides' % len(guides))"
   ]
  },
  {
   "cell_type": "code",
   "execution_count": null,
   "metadata": {
    "collapsed": false
   },
   "outputs": [],
   "source": [
    "# let's look and see if we've found every single \n",
    "\n",
    "for n,row in nar_data.iterrows():\n",
    "    dt_tss = row['Distance from TSS']\n",
    "    \n",
    "    b_found = False\n",
    "    \n",
    "    for g in guides:\n",
    "        if g['distance_from_tss'] == dt_tss:\n",
    "            b_found = True\n",
    "            \n",
    "    if b_found:\n",
    "        print('found a matching guide from the paper')        \n",
    "    else:\n",
    "        print('Didnt find it')\n",
    "        print(row)"
   ]
  },
  {
   "cell_type": "code",
   "execution_count": null,
   "metadata": {
    "collapsed": true
   },
   "outputs": [],
   "source": [
    "# uncomment this to print all of the guides found\n",
    "# for g in guides:\n",
    "#     if g['strand'] == 'watson':\n",
    "#         print(g['name'], g['strand'],g['pam_locus'], g['distance_from_tss'], g['pam_plus_sequence'])\n",
    "        \n",
    "#     elif g['strand'] == 'crick':\n",
    "#         print(g['name'], g['strand'],g['pam_locus'], g['distance_from_tss'], g['pam_plus_sequence'])"
   ]
  }
 ],
 "metadata": {
  "kernelspec": {
   "display_name": "Python 2",
   "language": "python",
   "name": "python2"
  },
  "language_info": {
   "codemirror_mode": {
    "name": "ipython",
    "version": 2
   },
   "file_extension": ".py",
   "mimetype": "text/x-python",
   "name": "python",
   "nbconvert_exporter": "python",
   "pygments_lexer": "ipython2",
   "version": "2.7.11"
  }
 },
 "nbformat": 4,
 "nbformat_minor": 0
}
