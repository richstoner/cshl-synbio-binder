{
 "cells": [
  {
   "cell_type": "code",
   "execution_count": 3,
   "metadata": {
    "collapsed": true
   },
   "outputs": [],
   "source": [
    "# based on ..."
   ]
  },
  {
   "cell_type": "code",
   "execution_count": 4,
   "metadata": {
    "collapsed": true
   },
   "outputs": [],
   "source": [
    "import dnaplotlib as dpl\n",
    "import matplotlib.pyplot as plt\n",
    "from matplotlib import gridspec\n",
    "%matplotlib inline"
   ]
  },
  {
   "cell_type": "code",
   "execution_count": 13,
   "metadata": {
    "collapsed": true
   },
   "outputs": [],
   "source": [
    "# Create the DNAplotlib renderer\n",
    "dr = dpl.DNARenderer()\n",
    "part_renderers = dr.SBOL_part_renderers()\n",
    "\n",
    "BLACKCOLOR = (0,0,0)\n",
    "BLUECOLOR = (0.2, 0.6, 1.0)\n",
    "REDCOLOR = (1, 0.2, 0.2)\n",
    "GREENCOLOR = (0.2, 1, 0.2)"
   ]
  },
  {
   "cell_type": "code",
   "execution_count": 6,
   "metadata": {
    "collapsed": false
   },
   "outputs": [],
   "source": [
    "sp = {'type':'EmptySpace', \n",
    "      'name':'S1', \n",
    "      'fwd':True, \n",
    "      'opts':{'x_extent':10}\n",
    "     }\n",
    "\n",
    "prom = {'type':'Promoter', \n",
    "        'name':'prom', \n",
    "        'fwd':True,\n",
    "        'opts':{\n",
    "            'label':'LacP',\n",
    "            'color' : GREENCOLOR,\n",
    "            'label_y_offset': 20,\n",
    "            }       \n",
    "       }\n",
    "\n",
    "cds_f = {'type':'CDS', \n",
    "         'name':'cds', \n",
    "         'fwd':True, \n",
    "         'opts':{\n",
    "            'color':(0.9,0.9,0.9), \n",
    "            'x_extent':60,\n",
    "            'label' : 'eGFP'\n",
    "            }\n",
    "        }\n",
    "\n",
    "\n",
    "rbs_1 = {'type':'RBS', \n",
    "         'name':'rbs', \n",
    "         'fwd':True, \n",
    "         'opts':{\n",
    "            'color': GREENCOLOR,\n",
    "            'label':'RBS',\n",
    "            'label_y_offset' : 20\n",
    "            }\n",
    "        }\n",
    "\n",
    "cds_1 = {'type':'CDS', \n",
    "         'name':'cds', \n",
    "         'fwd':True, \n",
    "         'opts':{\n",
    "            'color':BLUECOLOR, \n",
    "            'x_extent':60,\n",
    "            'label' : 'eGFP'\n",
    "            }\n",
    "        }\n",
    "\n",
    "origin_f = {\n",
    "    'type': 'Origin',\n",
    "    'name' : 'or1', \n",
    "    'fwd' : True,\n",
    "    'opts' : {\n",
    "        'color': (0,0,0),\n",
    "        'label' : 'ColE1',\n",
    "        'label_y_offset' : 20\n",
    "    }\n",
    "}\n",
    "\n",
    "sd_sig = {\n",
    "    'type' : 'UserDefined',\n",
    "    'name' : 'Shine-Dalgarno',\n",
    "    'fwd' : True,\n",
    "    'opts' : {\n",
    "        'color' : BLACKCOLOR,\n",
    "        'label' : 'Shine-Dalgarno',\n",
    "        'label_y_offset' : 20\n",
    "    }\n",
    "}\n",
    "\n",
    "upstream = {\n",
    "    'type' : 'UserDefined',\n",
    "    'name' : 'Context',\n",
    "    'fwd' : True,\n",
    "    'opts' : {\n",
    "        'color' : BLUECOLOR,\n",
    "        'label' : 'Upstream',\n",
    "        'label_y_offset' : 10\n",
    "    }\n",
    "}\n",
    "\n",
    "term = {'type':\n",
    "        'Terminator', \n",
    "        'name':'term', \n",
    "        'fwd':True,\n",
    "        'opts' : {\n",
    "            'color' : (0,0,0),\n",
    "            'label' : 'Terminator',\n",
    "            'label_y_offset' : 20\n",
    "            }\n",
    "       }\n"
   ]
  },
  {
   "cell_type": "code",
   "execution_count": 12,
   "metadata": {
    "collapsed": true
   },
   "outputs": [],
   "source": [
    "# compile the gene\n",
    "design1 = [origin_f, sp, prom, sp, upstream, sd_sig,sp, rbs_1, cds_f, term, sp]"
   ]
  },
  {
   "cell_type": "code",
   "execution_count": 11,
   "metadata": {
    "collapsed": false
   },
   "outputs": [
    {
     "data": {
      "image/png": "[encoded data removed]",
      "text/plain": [
       "<matplotlib.figure.Figure at 0x107f31650>"
      ]
     },
     "metadata": {},
     "output_type": "display_data"
    }
   ],
   "source": [
    "# Create the figure\n",
    "scaler = 2\n",
    "fig = plt.figure(figsize=(4*scaler,0.6*scaler), dpi=300)\n",
    "gs = gridspec.GridSpec(1, 1)\n",
    "ax_dna = plt.subplot(gs[0])\n",
    "\n",
    "# Redender the DNA to axis\n",
    "start, end = dr.renderDNA(ax_dna, design1, part_renderers)\n",
    "ax_dna.set_xlim([start, end])\n",
    "ax_dna.set_ylim([-15,28])\n",
    "ax_dna.set_aspect('equal')\n",
    "ax_dna.set_xticks([])\n",
    "ax_dna.set_yticks([])\n",
    "ax_dna.axis('off')\n",
    "\n",
    "plt.subplots_adjust(left=0.01, right=0.99, top=0.99, bottom=0.01)\n",
    "fig.savefig('generated_images/annotate_design.pdf', transparent=True)\n",
    "fig.savefig('generated_images/annotate_design.png', transparent=True, dpi=300)\n"
   ]
  },
  {
   "cell_type": "code",
   "execution_count": null,
   "metadata": {
    "collapsed": true
   },
   "outputs": [],
   "source": []
  }
 ],
 "metadata": {
  "kernelspec": {
   "display_name": "Python 2",
   "language": "python",
   "name": "python2"
  },
  "language_info": {
   "codemirror_mode": {
    "name": "ipython",
    "version": 2
   },
   "file_extension": ".py",
   "mimetype": "text/x-python",
   "name": "python",
   "nbconvert_exporter": "python",
   "pygments_lexer": "ipython2",
   "version": "2.7.11"
  }
 },
 "nbformat": 4,
 "nbformat_minor": 0
}
